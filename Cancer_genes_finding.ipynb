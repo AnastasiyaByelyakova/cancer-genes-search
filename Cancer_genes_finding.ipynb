{
  "nbformat": 4,
  "nbformat_minor": 0,
  "metadata": {
    "colab": {
      "name": "Cancer genes finding.ipynb",
      "version": "0.3.2",
      "provenance": [],
      "toc_visible": true
    },
    "kernelspec": {
      "name": "python3",
      "display_name": "Python 3"
    }
  },
  "cells": [
    {
      "metadata": {
        "id": "-J82tFB6m4v7",
        "colab_type": "text"
      },
      "cell_type": "markdown",
      "source": [
        "Cancer is a group of diseases involving abnormal cell growth with the potential to invade or spread to other parts of the body"
      ]
    },
    {
      "metadata": {
        "id": "8atqyKs0m4PG",
        "colab_type": "text"
      },
      "cell_type": "markdown",
      "source": [
        "\n",
        "Tobacco use is the cause of about 22% of cancer deaths. Another 10% are due to obesity, poor diet, lack of physical activity or excessive drinking of alcohol. Other factors include certain infections, exposure to ionizing radiation and environmental pollutants. In the developing world, 15% of cancers are due to infections such as Helicobacter pylori, hepatitis B, hepatitis C, human papillomavirus infection, Epstein–Barr virus and human immunodeficiency virus (HIV). These factors act, at least partly, by changing the genes of a cell. Typically, many genetic changes are required before cancer develops. Approximately 5–10% of cancers are due to inherited genetic defects from a person's parents. Cancer can be detected by certain signs and symptoms or screening tests. It is then typically further investigated by medical imaging and confirmed by biopsy."
      ]
    },
    {
      "metadata": {
        "id": "kjGZk1oEn4Nk",
        "colab_type": "text"
      },
      "cell_type": "markdown",
      "source": [
        "Although there are over 50 identifiable hereditary forms of cancer, less than 0.3% of the population are carriers of a cancer-related genetic mutation and these make up less than 3–10% of all cancer cases. The vast majority of cancers are non-hereditary (\"sporadic cancers\"). Hereditary cancers are primarily caused by an inherited genetic defect. A cancer syndrome or family cancer syndrome is a genetic disorder in which inherited genetic mutations in one or more genes predisposes the affected individuals to the development of cancers and may also cause the early onset of these cancers. Although cancer syndromes exhibit an increased risk of cancer, the risk varies. For some of these diseases, cancer is not the primary feature and is a rare consequence.\n",
        "\n",
        "Many of these syndromes are caused by mutations in tumor suppressor genes that regulate cell growth. Other common mutations alter the function of DNA repair genes, oncogenes and genes involved in the production of blood vessels. Certain inherited mutations in the genes BRCA1 and BRCA2 with a more than 75% risk of breast cancer and ovarian cancer. Some of the inherited genetic disorders that can cause colorectal cancer include familial adenomatous polyposis and hereditary non-polyposis colon cancer; however, these represent less than 5% of colon cancer cases. In many cases, genetic testing can be used to identify mutated genes or chromosomes that are passed through generations."
      ]
    },
    {
      "metadata": {
        "id": "NR24kyz7Jnf2",
        "colab_type": "text"
      },
      "cell_type": "markdown",
      "source": [
        "# 1) Preliminary work"
      ]
    },
    {
      "metadata": {
        "id": "-6sHbibJMfdx",
        "colab_type": "text"
      },
      "cell_type": "markdown",
      "source": [
        "## 1.1) Installations"
      ]
    },
    {
      "metadata": {
        "id": "Q75LYiaKMh93",
        "colab_type": "code",
        "colab": {
          "base_uri": "https://localhost:8080/",
          "height": 51
        },
        "outputId": "5fbe57b7-ab57-434f-ebf6-f89a495bd418"
      },
      "cell_type": "code",
      "source": [
        "! pip install biopython"
      ],
      "execution_count": 2,
      "outputs": [
        {
          "output_type": "stream",
          "text": [
            "Requirement already satisfied: biopython in /usr/local/lib/python3.6/dist-packages (1.72)\r\n",
            "Requirement already satisfied: numpy in /usr/local/lib/python3.6/dist-packages (from biopython) (1.14.5)\r\n"
          ],
          "name": "stdout"
        }
      ]
    },
    {
      "metadata": {
        "id": "-TO5wsXUMlN5",
        "colab_type": "code",
        "colab": {
          "base_uri": "https://localhost:8080/",
          "height": 71
        },
        "outputId": "c657411e-d4a3-4917-e7d2-1910b1dcb091"
      },
      "cell_type": "code",
      "source": [
        "! pip install python-Levenshtein"
      ],
      "execution_count": 3,
      "outputs": [
        {
          "output_type": "stream",
          "text": [
            "Requirement already satisfied: python-Levenshtein in /usr/local/lib/python3.6/dist-packages (0.12.0)\r\n",
            "Requirement already satisfied: setuptools in /usr/local/lib/python3.6/dist-packages (from python-Levenshtein) (39.1.0)\r\n"
          ],
          "name": "stdout"
        }
      ]
    },
    {
      "metadata": {
        "id": "PA9adUx1MnkQ",
        "colab_type": "code",
        "colab": {}
      },
      "cell_type": "code",
      "source": [
        "from Bio import Entrez\n",
        "from Bio.Seq import Seq\n",
        "from Bio import SeqIO\n",
        "\n",
        "import re\n",
        "import collections\n",
        "\n",
        "import pandas as pd\n",
        "import numpy as np\n",
        "\n",
        "import matplotlib.pyplot as plt\n",
        "from matplotlib import cm\n",
        "\n",
        "from Levenshtein import distance\n",
        "\n",
        "from sklearn.feature_extraction.text import TfidfVectorizer\n",
        "from sklearn.model_selection import train_test_split\n",
        "from sklearn.metrics import classification_report,confusion_matrix, accuracy_score\n",
        "from sklearn.ensemble import RandomForestClassifier\n",
        "from sklearn.ensemble import GradientBoostingClassifier\n"
      ],
      "execution_count": 0,
      "outputs": []
    },
    {
      "metadata": {
        "id": "FnbwDrMOhlVb",
        "colab_type": "text"
      },
      "cell_type": "markdown",
      "source": [
        "## 1.2) Loading data"
      ]
    },
    {
      "metadata": {
        "id": "2e56kEzrHT2j",
        "colab_type": "text"
      },
      "cell_type": "markdown",
      "source": [
        "#### 1.2.1) Non cancer genes"
      ]
    },
    {
      "metadata": {
        "id": "ycquigGLqTpl",
        "colab_type": "code",
        "colab": {
          "base_uri": "https://localhost:8080/",
          "height": 493
        },
        "outputId": "c57e455f-48fd-43ba-945a-71a2c3fae102"
      },
      "cell_type": "code",
      "source": [
        "l=[]\n",
        "\n",
        "\n",
        "handle = Entrez.esearch(db=\"nucleotide\", term='\"Homo sapiens\"[ORGN] NOT genome NOT cancer NOT tumor', retmax=1000)\n",
        "record = Entrez.read(handle, validate = False)\n",
        "idlist=record['IdList']\n",
        "\n",
        "handle2 = Entrez.efetch(db=\"nucleotide\", id=idlist, rettype=\"fasta\", retmode=\"text\")\n",
        "\n",
        "for seq_record in SeqIO.parse(handle2,'fasta'):\n",
        "  l.append([seq_record.id, str(seq_record.seq), seq_record.description.split(',')[0]])\n",
        "      \n",
        "\n",
        "a=pd.DataFrame(l)\n",
        "a['label']=0\n",
        "a.head()"
      ],
      "execution_count": 5,
      "outputs": [
        {
          "output_type": "stream",
          "text": [
            "/usr/local/lib/python3.6/dist-packages/Bio/Entrez/__init__.py:568: UserWarning: \n",
            "Email address is not specified.\n",
            "\n",
            "To make use of NCBI's E-utilities, NCBI requires you to specify your\n",
            "email address with each request.  As an example, if your email address\n",
            "is A.N.Other@example.com, you can specify it as follows:\n",
            "   from Bio import Entrez\n",
            "   Entrez.email = 'A.N.Other@example.com'\n",
            "In case of excessive usage of the E-utilities, NCBI will attempt to contact\n",
            "a user at the email address provided before blocking access to the\n",
            "E-utilities.\n",
            "  E-utilities.\"\"\", UserWarning)\n"
          ],
          "name": "stderr"
        },
        {
          "output_type": "execute_result",
          "data": {
            "text/html": [
              "<div>\n",
              "<style scoped>\n",
              "    .dataframe tbody tr th:only-of-type {\n",
              "        vertical-align: middle;\n",
              "    }\n",
              "\n",
              "    .dataframe tbody tr th {\n",
              "        vertical-align: top;\n",
              "    }\n",
              "\n",
              "    .dataframe thead th {\n",
              "        text-align: right;\n",
              "    }\n",
              "</style>\n",
              "<table border=\"1\" class=\"dataframe\">\n",
              "  <thead>\n",
              "    <tr style=\"text-align: right;\">\n",
              "      <th></th>\n",
              "      <th>0</th>\n",
              "      <th>1</th>\n",
              "      <th>2</th>\n",
              "      <th>label</th>\n",
              "    </tr>\n",
              "  </thead>\n",
              "  <tbody>\n",
              "    <tr>\n",
              "      <th>0</th>\n",
              "      <td>MH536743.1</td>\n",
              "      <td>GTCTCATCTGCCTCCACTCGGCCTCAGTTCCTCATCACTGTTCCTG...</td>\n",
              "      <td>MH536743.1 Homo sapiens HLA-DPA1*02:01:01:NEW ...</td>\n",
              "      <td>0</td>\n",
              "    </tr>\n",
              "    <tr>\n",
              "      <th>1</th>\n",
              "      <td>MH536742.1</td>\n",
              "      <td>CCAGGCCCCGGGCGGGGCTCTCAGGGTCTCAGGCTCCGAGAGCCTT...</td>\n",
              "      <td>MH536742.1 Homo sapiens HLA-B*35:01:01:NEW gene</td>\n",
              "      <td>0</td>\n",
              "    </tr>\n",
              "    <tr>\n",
              "      <th>2</th>\n",
              "      <td>MH536741.1</td>\n",
              "      <td>CAGAAGCAGAGGGGTCAGGGCGAAGTCCCAGGGCCCCAGGCGTGGC...</td>\n",
              "      <td>MH536741.1 Homo sapiens HLA-A*23:NEW pseudogene</td>\n",
              "      <td>0</td>\n",
              "    </tr>\n",
              "    <tr>\n",
              "      <th>3</th>\n",
              "      <td>MH536740.1</td>\n",
              "      <td>CCAGGCCCCGGGCGGGGCTCTCAGGGTCTCAGGCTCCGAGAGCCTT...</td>\n",
              "      <td>MH536740.1 Homo sapiens HLA-B*18:01:01:NEW gene</td>\n",
              "      <td>0</td>\n",
              "    </tr>\n",
              "    <tr>\n",
              "      <th>4</th>\n",
              "      <td>MH536739.1</td>\n",
              "      <td>CCAGGCCCCGGGCGGGGCTCTCAGGGTCTCAGGCTCCGAGGGCCGC...</td>\n",
              "      <td>MH536739.1 Homo sapiens HLA-B*49:01:01:NEW gene</td>\n",
              "      <td>0</td>\n",
              "    </tr>\n",
              "  </tbody>\n",
              "</table>\n",
              "</div>"
            ],
            "text/plain": [
              "            0                                                  1  \\\n",
              "0  MH536743.1  GTCTCATCTGCCTCCACTCGGCCTCAGTTCCTCATCACTGTTCCTG...   \n",
              "1  MH536742.1  CCAGGCCCCGGGCGGGGCTCTCAGGGTCTCAGGCTCCGAGAGCCTT...   \n",
              "2  MH536741.1  CAGAAGCAGAGGGGTCAGGGCGAAGTCCCAGGGCCCCAGGCGTGGC...   \n",
              "3  MH536740.1  CCAGGCCCCGGGCGGGGCTCTCAGGGTCTCAGGCTCCGAGAGCCTT...   \n",
              "4  MH536739.1  CCAGGCCCCGGGCGGGGCTCTCAGGGTCTCAGGCTCCGAGGGCCGC...   \n",
              "\n",
              "                                                   2  label  \n",
              "0  MH536743.1 Homo sapiens HLA-DPA1*02:01:01:NEW ...      0  \n",
              "1    MH536742.1 Homo sapiens HLA-B*35:01:01:NEW gene      0  \n",
              "2    MH536741.1 Homo sapiens HLA-A*23:NEW pseudogene      0  \n",
              "3    MH536740.1 Homo sapiens HLA-B*18:01:01:NEW gene      0  \n",
              "4    MH536739.1 Homo sapiens HLA-B*49:01:01:NEW gene      0  "
            ]
          },
          "metadata": {
            "tags": []
          },
          "execution_count": 5
        }
      ]
    },
    {
      "metadata": {
        "id": "tjed_FgRHqj5",
        "colab_type": "text"
      },
      "cell_type": "markdown",
      "source": [
        "#### 1.2.2.) Cancer genes"
      ]
    },
    {
      "metadata": {
        "id": "tdimIs0bRoHI",
        "colab_type": "code",
        "colab": {
          "base_uri": "https://localhost:8080/",
          "height": 493
        },
        "outputId": "5fb36c0c-237f-4608-c0e7-3b760126fa65"
      },
      "cell_type": "code",
      "source": [
        "l=[]\n",
        "\n",
        "handle = Entrez.esearch(db=\"nucleotide\", term='\"Homo sapiens\"[Organism] NOT Roswell[All Fields]) AND cancer[Title]', retmax=1000)\n",
        "record = Entrez.read(handle, validate = False)\n",
        "idlist=record['IdList']\n",
        "\n",
        "handle2 = Entrez.efetch(db=\"nucleotide\", id=idlist, rettype=\"fasta\", retmode=\"text\")\n",
        "\n",
        "for seq_record in SeqIO.parse(handle2,'fasta'):\n",
        "  l.append([seq_record.id, str(seq_record.seq), seq_record.description.split(',')[0]])\n",
        "      \n",
        "\n",
        "b=pd.DataFrame(l)\n",
        "b['label']=1\n",
        "b.head()"
      ],
      "execution_count": 6,
      "outputs": [
        {
          "output_type": "stream",
          "text": [
            "/usr/local/lib/python3.6/dist-packages/Bio/Entrez/__init__.py:568: UserWarning: \n",
            "Email address is not specified.\n",
            "\n",
            "To make use of NCBI's E-utilities, NCBI requires you to specify your\n",
            "email address with each request.  As an example, if your email address\n",
            "is A.N.Other@example.com, you can specify it as follows:\n",
            "   from Bio import Entrez\n",
            "   Entrez.email = 'A.N.Other@example.com'\n",
            "In case of excessive usage of the E-utilities, NCBI will attempt to contact\n",
            "a user at the email address provided before blocking access to the\n",
            "E-utilities.\n",
            "  E-utilities.\"\"\", UserWarning)\n"
          ],
          "name": "stderr"
        },
        {
          "output_type": "execute_result",
          "data": {
            "text/html": [
              "<div>\n",
              "<style scoped>\n",
              "    .dataframe tbody tr th:only-of-type {\n",
              "        vertical-align: middle;\n",
              "    }\n",
              "\n",
              "    .dataframe tbody tr th {\n",
              "        vertical-align: top;\n",
              "    }\n",
              "\n",
              "    .dataframe thead th {\n",
              "        text-align: right;\n",
              "    }\n",
              "</style>\n",
              "<table border=\"1\" class=\"dataframe\">\n",
              "  <thead>\n",
              "    <tr style=\"text-align: right;\">\n",
              "      <th></th>\n",
              "      <th>0</th>\n",
              "      <th>1</th>\n",
              "      <th>2</th>\n",
              "      <th>label</th>\n",
              "    </tr>\n",
              "  </thead>\n",
              "  <tbody>\n",
              "    <tr>\n",
              "      <th>0</th>\n",
              "      <td>NR_109833.1</td>\n",
              "      <td>AAATCTCAGCCTCCCACTCCCATATTTACAGTTTGATTAGGGAGGC...</td>\n",
              "      <td>NR_109833.1 Homo sapiens prostate cancer assoc...</td>\n",
              "      <td>1</td>\n",
              "    </tr>\n",
              "    <tr>\n",
              "      <th>1</th>\n",
              "      <td>NR_109834.1</td>\n",
              "      <td>CCGAGGTGATCAGGTGGACTTTCCTGGATGTTCTGGGTCTTGACCT...</td>\n",
              "      <td>NR_109834.1 Homo sapiens colon cancer associat...</td>\n",
              "      <td>1</td>\n",
              "    </tr>\n",
              "    <tr>\n",
              "      <th>2</th>\n",
              "      <td>NR_015379.3</td>\n",
              "      <td>TGACATTCTTCTGGACAATGAGTCCCATCATCTCTCCACCATGCAC...</td>\n",
              "      <td>NR_015379.3 Homo sapiens urothelial cancer ass...</td>\n",
              "      <td>1</td>\n",
              "    </tr>\n",
              "    <tr>\n",
              "      <th>3</th>\n",
              "      <td>NR_026941.1</td>\n",
              "      <td>AGCGGGCTGCAGGGCTGCGGGCGCTTGGTTCGGCCTGGCCCGGCCG...</td>\n",
              "      <td>NR_026941.1 Homo sapiens cancer susceptibility...</td>\n",
              "      <td>1</td>\n",
              "    </tr>\n",
              "    <tr>\n",
              "      <th>4</th>\n",
              "      <td>NR_026940.1</td>\n",
              "      <td>AGCGGGCTGCAGGGCTGCGGGCGCTTGGTTCGGCCTGGCCCGGCCG...</td>\n",
              "      <td>NR_026940.1 Homo sapiens cancer susceptibility...</td>\n",
              "      <td>1</td>\n",
              "    </tr>\n",
              "  </tbody>\n",
              "</table>\n",
              "</div>"
            ],
            "text/plain": [
              "             0                                                  1  \\\n",
              "0  NR_109833.1  AAATCTCAGCCTCCCACTCCCATATTTACAGTTTGATTAGGGAGGC...   \n",
              "1  NR_109834.1  CCGAGGTGATCAGGTGGACTTTCCTGGATGTTCTGGGTCTTGACCT...   \n",
              "2  NR_015379.3  TGACATTCTTCTGGACAATGAGTCCCATCATCTCTCCACCATGCAC...   \n",
              "3  NR_026941.1  AGCGGGCTGCAGGGCTGCGGGCGCTTGGTTCGGCCTGGCCCGGCCG...   \n",
              "4  NR_026940.1  AGCGGGCTGCAGGGCTGCGGGCGCTTGGTTCGGCCTGGCCCGGCCG...   \n",
              "\n",
              "                                                   2  label  \n",
              "0  NR_109833.1 Homo sapiens prostate cancer assoc...      1  \n",
              "1  NR_109834.1 Homo sapiens colon cancer associat...      1  \n",
              "2  NR_015379.3 Homo sapiens urothelial cancer ass...      1  \n",
              "3  NR_026941.1 Homo sapiens cancer susceptibility...      1  \n",
              "4  NR_026940.1 Homo sapiens cancer susceptibility...      1  "
            ]
          },
          "metadata": {
            "tags": []
          },
          "execution_count": 6
        }
      ]
    },
    {
      "metadata": {
        "id": "JOH6GHB0lAJ5",
        "colab_type": "code",
        "colab": {}
      },
      "cell_type": "code",
      "source": [
        "data=pd.concat([a,b], axis=0)"
      ],
      "execution_count": 0,
      "outputs": []
    },
    {
      "metadata": {
        "id": "5X9hNyOaH5j_",
        "colab_type": "text"
      },
      "cell_type": "markdown",
      "source": [
        "## 1.3) Vectorize genes sequences "
      ]
    },
    {
      "metadata": {
        "id": "VFCOcSo7lJsr",
        "colab_type": "code",
        "colab": {}
      },
      "cell_type": "code",
      "source": [
        "vectorizer = TfidfVectorizer(sublinear_tf=True, min_df=5, analyzer='char')\n",
        "\n",
        "x = vectorizer.fit_transform(list(data[1]))"
      ],
      "execution_count": 0,
      "outputs": []
    },
    {
      "metadata": {
        "id": "GjwYSw4mJQVa",
        "colab_type": "text"
      },
      "cell_type": "markdown",
      "source": [
        "# 2) Random forest classifier "
      ]
    },
    {
      "metadata": {
        "id": "UaRv-F6lJv26",
        "colab_type": "text"
      },
      "cell_type": "markdown",
      "source": [
        "Random forests or random decision forests are an ensemble learning method for classification, regression and other tasks, that operate by constructing a multitude of decision trees at training time and outputting the class that is the mode of the classes (classification) or mean prediction (regression) of the individual trees.  Random  forests correct for decision trees' habit of overfitting to their training set."
      ]
    },
    {
      "metadata": {
        "id": "MY2C4t3lKHZ7",
        "colab_type": "text"
      },
      "cell_type": "markdown",
      "source": [
        "## 2.1) Creating classifier "
      ]
    },
    {
      "metadata": {
        "id": "Pv-ViPY-KpxQ",
        "colab_type": "text"
      },
      "cell_type": "markdown",
      "source": [
        "#### 2.2) Splitting train and test sets "
      ]
    },
    {
      "metadata": {
        "id": "rHEHutkwmOMU",
        "colab_type": "code",
        "colab": {}
      },
      "cell_type": "code",
      "source": [
        "X_train, X_test, y_train, y_test = train_test_split( x, list(data['label']) )"
      ],
      "execution_count": 0,
      "outputs": []
    },
    {
      "metadata": {
        "id": "5iNfOM5GKWtL",
        "colab_type": "text"
      },
      "cell_type": "markdown",
      "source": [
        "#### 2.3) Training classifier "
      ]
    },
    {
      "metadata": {
        "id": "H04t8vNZmMmE",
        "colab_type": "code",
        "colab": {
          "base_uri": "https://localhost:8080/",
          "height": 136
        },
        "outputId": "2cea9197-e599-4875-a2a8-1ef3caf935a8"
      },
      "cell_type": "code",
      "source": [
        "mlp = RandomForestClassifier()\n",
        "mlp.fit(X_train, y_train )"
      ],
      "execution_count": 11,
      "outputs": [
        {
          "output_type": "execute_result",
          "data": {
            "text/plain": [
              "RandomForestClassifier(bootstrap=True, class_weight=None, criterion='gini',\n",
              "            max_depth=None, max_features='auto', max_leaf_nodes=None,\n",
              "            min_impurity_decrease=0.0, min_impurity_split=None,\n",
              "            min_samples_leaf=1, min_samples_split=2,\n",
              "            min_weight_fraction_leaf=0.0, n_estimators=10, n_jobs=1,\n",
              "            oob_score=False, random_state=None, verbose=0,\n",
              "            warm_start=False)"
            ]
          },
          "metadata": {
            "tags": []
          },
          "execution_count": 11
        }
      ]
    },
    {
      "metadata": {
        "id": "leDaxYmnKwVa",
        "colab_type": "text"
      },
      "cell_type": "markdown",
      "source": [
        "## 2.2) Evaluating accuracy and performance of classifier  "
      ]
    },
    {
      "metadata": {
        "id": "WdiIqoIsK94V",
        "colab_type": "text"
      },
      "cell_type": "markdown",
      "source": [
        "Prediction on test set"
      ]
    },
    {
      "metadata": {
        "id": "5qsVCLcIosZw",
        "colab_type": "code",
        "colab": {}
      },
      "cell_type": "code",
      "source": [
        "predictions = mlp.predict(X_test)"
      ],
      "execution_count": 0,
      "outputs": []
    },
    {
      "metadata": {
        "id": "gs_y0rlWLERJ",
        "colab_type": "text"
      },
      "cell_type": "markdown",
      "source": [
        "classification report"
      ]
    },
    {
      "metadata": {
        "id": "0hBJFGijozff",
        "colab_type": "code",
        "colab": {
          "base_uri": "https://localhost:8080/",
          "height": 136
        },
        "outputId": "2815fab3-cce8-4f88-fa43-cfbfd44420a4"
      },
      "cell_type": "code",
      "source": [
        "print(classification_report(y_test, predictions))"
      ],
      "execution_count": 13,
      "outputs": [
        {
          "output_type": "stream",
          "text": [
            "             precision    recall  f1-score   support\n",
            "\n",
            "          0       0.86      0.92      0.89       240\n",
            "          1       0.92      0.86      0.89       260\n",
            "\n",
            "avg / total       0.89      0.89      0.89       500\n",
            "\n"
          ],
          "name": "stdout"
        }
      ]
    },
    {
      "metadata": {
        "id": "mG6-XPvoLRTu",
        "colab_type": "text"
      },
      "cell_type": "markdown",
      "source": [
        "accuracy"
      ]
    },
    {
      "metadata": {
        "id": "RzbhDQg9o3P1",
        "colab_type": "code",
        "colab": {
          "base_uri": "https://localhost:8080/",
          "height": 34
        },
        "outputId": "89ffb8aa-4469-4186-89be-32a744da05f7"
      },
      "cell_type": "code",
      "source": [
        "accuracy_score(y_test, predictions)"
      ],
      "execution_count": 14,
      "outputs": [
        {
          "output_type": "execute_result",
          "data": {
            "text/plain": [
              "0.888"
            ]
          },
          "metadata": {
            "tags": []
          },
          "execution_count": 14
        }
      ]
    },
    {
      "metadata": {
        "id": "6tuapEd_NN3P",
        "colab_type": "text"
      },
      "cell_type": "markdown",
      "source": [
        "# 3) Looking for cancer genes in genome "
      ]
    },
    {
      "metadata": {
        "id": "7u-d1uHNo9k8",
        "colab_type": "code",
        "colab": {}
      },
      "cell_type": "code",
      "source": [
        "def ORF_finder(sequenses):\n",
        "        \"\"\"\n",
        "        This function finds ORF in dna sequenses\n",
        "        :param sequenses: set of DNA sequenses in dictionary format (name:sequense)\n",
        "        :return: lists of open reading frames (1,2,3) and length of longest ORF\n",
        "        \"\"\"\n",
        "        ORF=[]\n",
        "        for item in sequenses:\n",
        "            x=re.findall(r'ATG(?:(?!TAA|TAG|TGA)...)*(?:TAA|TAG|TGA)',item)\n",
        "            ORF.extend(x)\n",
        "\n",
        "        return ORF"
      ],
      "execution_count": 0,
      "outputs": []
    },
    {
      "metadata": {
        "id": "QqGkB2vXNXvp",
        "colab_type": "text"
      },
      "cell_type": "markdown",
      "source": [
        "## 3.1) Getting a genome "
      ]
    },
    {
      "metadata": {
        "id": "03d80k0VgyKt",
        "colab_type": "code",
        "colab": {
          "base_uri": "https://localhost:8080/",
          "height": 221
        },
        "outputId": "d8e6498e-e41d-4e0a-adb6-a886546d2195"
      },
      "cell_type": "code",
      "source": [
        "handle = Entrez.esearch(db=\"nucleotide\", term='\"Homo sapiens\"[ORGN] AND complete genome[title]', retmax=1)\n",
        "record = Entrez.read(handle, validate = False)\n",
        "\n",
        "idlist=record['IdList']\n",
        "handle2 = Entrez.efetch(db=\"nucleotide\", id=idlist, rettype=\"fasta\", retmode=\"text\")\n",
        "\n",
        "genome=''\n",
        "\n",
        "for seq_record in SeqIO.parse(handle2,'fasta'):\n",
        "  genome= seq_record.seq"
      ],
      "execution_count": 16,
      "outputs": [
        {
          "output_type": "stream",
          "text": [
            "/usr/local/lib/python3.6/dist-packages/Bio/Entrez/__init__.py:568: UserWarning: \n",
            "Email address is not specified.\n",
            "\n",
            "To make use of NCBI's E-utilities, NCBI requires you to specify your\n",
            "email address with each request.  As an example, if your email address\n",
            "is A.N.Other@example.com, you can specify it as follows:\n",
            "   from Bio import Entrez\n",
            "   Entrez.email = 'A.N.Other@example.com'\n",
            "In case of excessive usage of the E-utilities, NCBI will attempt to contact\n",
            "a user at the email address provided before blocking access to the\n",
            "E-utilities.\n",
            "  E-utilities.\"\"\", UserWarning)\n"
          ],
          "name": "stderr"
        }
      ]
    },
    {
      "metadata": {
        "id": "A6yVsjFENpqH",
        "colab_type": "text"
      },
      "cell_type": "markdown",
      "source": [
        "## 3.2) Finding ORF"
      ]
    },
    {
      "metadata": {
        "id": "55NANlTk4uYR",
        "colab_type": "code",
        "colab": {}
      },
      "cell_type": "code",
      "source": [
        "n={'A':'T','C':'G','T':'A','G':'C'}\n",
        "\n",
        "rev_g=''\n",
        "for i in genome:\n",
        "  rev_g=n[i]+rev_g\n",
        "\n",
        "genes=ORF_finder([str(genome), rev_g])"
      ],
      "execution_count": 0,
      "outputs": []
    },
    {
      "metadata": {
        "id": "gHHst7CaN13R",
        "colab_type": "text"
      },
      "cell_type": "markdown",
      "source": [
        "## 3.3) Vectorising genes"
      ]
    },
    {
      "metadata": {
        "id": "M_hIXSbd95u0",
        "colab_type": "code",
        "colab": {}
      },
      "cell_type": "code",
      "source": [
        "a=pd.DataFrame(genes)\n",
        "x = vectorizer.fit_transform(a[0].apply(lambda x: x+'N'))                    "
      ],
      "execution_count": 0,
      "outputs": []
    },
    {
      "metadata": {
        "id": "LVoRUrxMOB4Z",
        "colab_type": "text"
      },
      "cell_type": "markdown",
      "source": [
        "## 3.4) Making predictions"
      ]
    },
    {
      "metadata": {
        "id": "A_Bbmk4E_3bq",
        "colab_type": "code",
        "colab": {
          "base_uri": "https://localhost:8080/",
          "height": 204
        },
        "outputId": "af9ea558-b0cb-4e44-ed2c-0c1c42f4fe70"
      },
      "cell_type": "code",
      "source": [
        "mlp.predict(x) "
      ],
      "execution_count": 23,
      "outputs": [
        {
          "output_type": "execute_result",
          "data": {
            "text/plain": [
              "array([0, 1, 0, 1, 1, 0, 0, 0, 1, 1, 0, 0, 0, 1, 1, 1, 1, 1, 1, 0, 0, 1,\n",
              "       1, 0, 1, 0, 0, 0, 1, 0, 0, 1, 1, 1, 0, 1, 1, 1, 1, 0, 0, 0, 1, 1,\n",
              "       0, 1, 0, 0, 1, 0, 0, 1, 1, 0, 1, 0, 0, 1, 1, 0, 1, 1, 0, 1, 1, 0,\n",
              "       1, 1, 1, 0, 1, 1, 0, 1, 1, 1, 1, 0, 1, 1, 1, 0, 1, 0, 0, 0, 0, 0,\n",
              "       1, 1, 1, 0, 0, 0, 0, 0, 0, 0, 1, 0, 1, 1, 0, 1, 0, 0, 1, 1, 1, 1,\n",
              "       0, 1, 0, 1, 0, 1, 1, 1, 1, 0, 1, 0, 0, 1, 1, 0, 1, 0, 1, 1, 0, 1,\n",
              "       0, 1, 1, 0, 0, 1, 1, 1, 0, 0, 0, 0, 1, 1, 1, 1, 1, 0, 1, 1, 1, 1,\n",
              "       1, 1, 0, 0, 0, 0, 1, 1, 0, 1, 0, 1, 1, 1, 0, 1, 0, 0, 0, 0, 1, 1,\n",
              "       0, 1, 1, 0, 0, 1, 1, 0, 0, 0, 1, 0, 1, 0, 1, 1, 1, 1, 1, 1, 0, 0,\n",
              "       1, 0, 1, 0, 0, 0, 1, 1, 1, 0, 0, 0, 0, 1, 0, 0, 1, 0, 0, 0, 0, 1,\n",
              "       1, 1, 1, 1, 0, 1, 0, 0, 0, 0, 1, 1, 1, 1, 1, 0])"
            ]
          },
          "metadata": {
            "tags": []
          },
          "execution_count": 23
        }
      ]
    },
    {
      "metadata": {
        "id": "EJb7mHU-dd6M",
        "colab_type": "code",
        "colab": {}
      },
      "cell_type": "code",
      "source": [
        ""
      ],
      "execution_count": 0,
      "outputs": []
    }
  ]
}